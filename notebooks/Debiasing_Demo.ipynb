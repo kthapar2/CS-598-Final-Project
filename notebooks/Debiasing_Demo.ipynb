{
 "cells": [
  {
   "cell_type": "markdown",
   "id": "ad42cb1d",
   "metadata": {},
   "source": [
    "### *Debiasing Deep Chest X-Ray Classifiers using Intra- and Post-processing Methods*: A Tutorial\n",
    "\n",
    "Welcome to the demo notebook for our paper \"*Debiasing Deep Chest X-Ray Classifiers using Intra- and Post-processing Methods*\"! Here, we will learn how to apply the proposed **bias gradient descent/ascent (GD/A)** and **pruning** algorithms to a fully connected neural network trained on the **COMPAS data**."
   ]
  },
  {
   "cell_type": "markdown",
   "id": "72db696d",
   "metadata": {},
   "source": [
    "#### Imports\n",
    "\n",
    "Let's start by importing basic libraries, such as NumPy, pandas, and PyTorch:"
   ]
  },
  {
   "cell_type": "code",
   "execution_count": 1,
   "id": "37cdf756",
   "metadata": {},
   "outputs": [],
   "source": [
    "# Imports\n",
    "import numpy as np\n",
    "import pandas as pd\n",
    "import random\n",
    "import torch\n",
    "import sys\n",
    "sys.path.insert(0, '../')\n",
    "\n",
    "from torch import nn\n",
    "import torch.nn.functional as F"
   ]
  },
  {
   "cell_type": "markdown",
   "id": "7e59eb81",
   "metadata": {},
   "source": [
    "#### Repeatability\n",
    "\n",
    "Set the seeds for all relevant pseudorandom number generators:"
   ]
  },
  {
   "cell_type": "code",
   "execution_count": 2,
   "id": "fa031953",
   "metadata": {},
   "outputs": [
    {
     "data": {
      "text/plain": [
       "<torch._C.Generator at 0x7fe4e67585d0>"
      ]
     },
     "execution_count": 2,
     "metadata": {},
     "output_type": "execute_result"
    }
   ],
   "source": [
    "seed = 220825\n",
    "random.seed(seed)\n",
    "np.random.seed(seed)\n",
    "torch.manual_seed(seed)"
   ]
  },
  {
   "cell_type": "markdown",
   "id": "62f59a0f",
   "metadata": {},
   "source": [
    "#### COMPAS Data\n",
    "\n",
    "We will use the version of the [COMPAS dataset](https://www.propublica.org/article/how-we-analyzed-the-compas-recidivism-algorithm) provided within the [AI Fairness 360 library](https://aif360.mybluemix.net/):"
   ]
  },
  {
   "cell_type": "code",
   "execution_count": 3,
   "id": "8640e226",
   "metadata": {},
   "outputs": [
    {
     "name": "stderr",
     "output_type": "stream",
     "text": [
      "2022-08-25 16:41:53.783573: W tensorflow/stream_executor/platform/default/dso_loader.cc:64] Could not load dynamic library 'libcudart.so.11.0'; dlerror: libcudart.so.11.0: cannot open shared object file: No such file or directory\n",
      "2022-08-25 16:41:53.783587: I tensorflow/stream_executor/cuda/cudart_stub.cc:29] Ignore above cudart dlerror if you do not have a GPU set up on your machine.\n",
      "WARNING:root:Missing Data: 5 rows removed from CompasDataset.\n"
     ]
    }
   ],
   "source": [
    "from aif360.datasets import CompasDataset\n",
    "\n",
    "# Load the data\n",
    "dataset = CompasDataset()\n",
    "# Train-validation-test split\n",
    "dataset_train, dataset_vt = dataset.split([0.6], shuffle=True, seed=seed)\n",
    "dataset_valid, dataset_test = dataset_vt.split([0.5], shuffle=True, seed=seed)"
   ]
  },
  {
   "cell_type": "markdown",
   "id": "42013435",
   "metadata": {},
   "source": [
    "Let's have a look at the data:"
   ]
  },
  {
   "cell_type": "code",
   "execution_count": 4,
   "id": "6a3f3a59",
   "metadata": {
    "scrolled": false
   },
   "outputs": [
    {
     "data": {
      "text/html": [
       "<div>\n",
       "<style scoped>\n",
       "    .dataframe tbody tr th:only-of-type {\n",
       "        vertical-align: middle;\n",
       "    }\n",
       "\n",
       "    .dataframe tbody tr th {\n",
       "        vertical-align: top;\n",
       "    }\n",
       "\n",
       "    .dataframe thead th {\n",
       "        text-align: right;\n",
       "    }\n",
       "</style>\n",
       "<table border=\"1\" class=\"dataframe\">\n",
       "  <thead>\n",
       "    <tr style=\"text-align: right;\">\n",
       "      <th></th>\n",
       "      <th>sex</th>\n",
       "      <th>age</th>\n",
       "      <th>race</th>\n",
       "      <th>juv_fel_count</th>\n",
       "      <th>juv_misd_count</th>\n",
       "      <th>juv_other_count</th>\n",
       "      <th>priors_count</th>\n",
       "      <th>age_cat=25 - 45</th>\n",
       "      <th>age_cat=Greater than 45</th>\n",
       "      <th>age_cat=Less than 25</th>\n",
       "      <th>...</th>\n",
       "      <th>c_charge_desc=Viol Injunct Domestic Violence</th>\n",
       "      <th>c_charge_desc=Viol Injunction Protect Dom Vi</th>\n",
       "      <th>c_charge_desc=Viol Pretrial Release Dom Viol</th>\n",
       "      <th>c_charge_desc=Viol Prot Injunc Repeat Viol</th>\n",
       "      <th>c_charge_desc=Violation License Restrictions</th>\n",
       "      <th>c_charge_desc=Violation Of Boater Safety Id</th>\n",
       "      <th>c_charge_desc=Violation of Injunction Order/Stalking/Cyberstalking</th>\n",
       "      <th>c_charge_desc=Voyeurism</th>\n",
       "      <th>c_charge_desc=arrest case no charge</th>\n",
       "      <th>two_year_recid</th>\n",
       "    </tr>\n",
       "  </thead>\n",
       "  <tbody>\n",
       "    <tr>\n",
       "      <th>1</th>\n",
       "      <td>0.0</td>\n",
       "      <td>69.0</td>\n",
       "      <td>0.0</td>\n",
       "      <td>0.0</td>\n",
       "      <td>0.0</td>\n",
       "      <td>0.0</td>\n",
       "      <td>0.0</td>\n",
       "      <td>0.0</td>\n",
       "      <td>1.0</td>\n",
       "      <td>0.0</td>\n",
       "      <td>...</td>\n",
       "      <td>0.0</td>\n",
       "      <td>0.0</td>\n",
       "      <td>0.0</td>\n",
       "      <td>0.0</td>\n",
       "      <td>0.0</td>\n",
       "      <td>0.0</td>\n",
       "      <td>0.0</td>\n",
       "      <td>0.0</td>\n",
       "      <td>0.0</td>\n",
       "      <td>0.0</td>\n",
       "    </tr>\n",
       "    <tr>\n",
       "      <th>3</th>\n",
       "      <td>0.0</td>\n",
       "      <td>34.0</td>\n",
       "      <td>0.0</td>\n",
       "      <td>0.0</td>\n",
       "      <td>0.0</td>\n",
       "      <td>0.0</td>\n",
       "      <td>0.0</td>\n",
       "      <td>1.0</td>\n",
       "      <td>0.0</td>\n",
       "      <td>0.0</td>\n",
       "      <td>...</td>\n",
       "      <td>0.0</td>\n",
       "      <td>0.0</td>\n",
       "      <td>0.0</td>\n",
       "      <td>0.0</td>\n",
       "      <td>0.0</td>\n",
       "      <td>0.0</td>\n",
       "      <td>0.0</td>\n",
       "      <td>0.0</td>\n",
       "      <td>0.0</td>\n",
       "      <td>1.0</td>\n",
       "    </tr>\n",
       "    <tr>\n",
       "      <th>4</th>\n",
       "      <td>0.0</td>\n",
       "      <td>24.0</td>\n",
       "      <td>0.0</td>\n",
       "      <td>0.0</td>\n",
       "      <td>0.0</td>\n",
       "      <td>1.0</td>\n",
       "      <td>4.0</td>\n",
       "      <td>0.0</td>\n",
       "      <td>0.0</td>\n",
       "      <td>1.0</td>\n",
       "      <td>...</td>\n",
       "      <td>0.0</td>\n",
       "      <td>0.0</td>\n",
       "      <td>0.0</td>\n",
       "      <td>0.0</td>\n",
       "      <td>0.0</td>\n",
       "      <td>0.0</td>\n",
       "      <td>0.0</td>\n",
       "      <td>0.0</td>\n",
       "      <td>0.0</td>\n",
       "      <td>1.0</td>\n",
       "    </tr>\n",
       "    <tr>\n",
       "      <th>7</th>\n",
       "      <td>0.0</td>\n",
       "      <td>44.0</td>\n",
       "      <td>0.0</td>\n",
       "      <td>0.0</td>\n",
       "      <td>0.0</td>\n",
       "      <td>0.0</td>\n",
       "      <td>0.0</td>\n",
       "      <td>1.0</td>\n",
       "      <td>0.0</td>\n",
       "      <td>0.0</td>\n",
       "      <td>...</td>\n",
       "      <td>0.0</td>\n",
       "      <td>0.0</td>\n",
       "      <td>0.0</td>\n",
       "      <td>0.0</td>\n",
       "      <td>0.0</td>\n",
       "      <td>0.0</td>\n",
       "      <td>0.0</td>\n",
       "      <td>0.0</td>\n",
       "      <td>0.0</td>\n",
       "      <td>0.0</td>\n",
       "    </tr>\n",
       "    <tr>\n",
       "      <th>8</th>\n",
       "      <td>0.0</td>\n",
       "      <td>41.0</td>\n",
       "      <td>1.0</td>\n",
       "      <td>0.0</td>\n",
       "      <td>0.0</td>\n",
       "      <td>0.0</td>\n",
       "      <td>14.0</td>\n",
       "      <td>1.0</td>\n",
       "      <td>0.0</td>\n",
       "      <td>0.0</td>\n",
       "      <td>...</td>\n",
       "      <td>0.0</td>\n",
       "      <td>0.0</td>\n",
       "      <td>0.0</td>\n",
       "      <td>0.0</td>\n",
       "      <td>0.0</td>\n",
       "      <td>0.0</td>\n",
       "      <td>0.0</td>\n",
       "      <td>0.0</td>\n",
       "      <td>0.0</td>\n",
       "      <td>1.0</td>\n",
       "    </tr>\n",
       "    <tr>\n",
       "      <th>...</th>\n",
       "      <td>...</td>\n",
       "      <td>...</td>\n",
       "      <td>...</td>\n",
       "      <td>...</td>\n",
       "      <td>...</td>\n",
       "      <td>...</td>\n",
       "      <td>...</td>\n",
       "      <td>...</td>\n",
       "      <td>...</td>\n",
       "      <td>...</td>\n",
       "      <td>...</td>\n",
       "      <td>...</td>\n",
       "      <td>...</td>\n",
       "      <td>...</td>\n",
       "      <td>...</td>\n",
       "      <td>...</td>\n",
       "      <td>...</td>\n",
       "      <td>...</td>\n",
       "      <td>...</td>\n",
       "      <td>...</td>\n",
       "      <td>...</td>\n",
       "    </tr>\n",
       "    <tr>\n",
       "      <th>10996</th>\n",
       "      <td>0.0</td>\n",
       "      <td>23.0</td>\n",
       "      <td>0.0</td>\n",
       "      <td>0.0</td>\n",
       "      <td>0.0</td>\n",
       "      <td>0.0</td>\n",
       "      <td>0.0</td>\n",
       "      <td>0.0</td>\n",
       "      <td>0.0</td>\n",
       "      <td>1.0</td>\n",
       "      <td>...</td>\n",
       "      <td>0.0</td>\n",
       "      <td>0.0</td>\n",
       "      <td>0.0</td>\n",
       "      <td>0.0</td>\n",
       "      <td>0.0</td>\n",
       "      <td>0.0</td>\n",
       "      <td>0.0</td>\n",
       "      <td>0.0</td>\n",
       "      <td>0.0</td>\n",
       "      <td>0.0</td>\n",
       "    </tr>\n",
       "    <tr>\n",
       "      <th>10997</th>\n",
       "      <td>0.0</td>\n",
       "      <td>23.0</td>\n",
       "      <td>0.0</td>\n",
       "      <td>0.0</td>\n",
       "      <td>0.0</td>\n",
       "      <td>0.0</td>\n",
       "      <td>0.0</td>\n",
       "      <td>0.0</td>\n",
       "      <td>0.0</td>\n",
       "      <td>1.0</td>\n",
       "      <td>...</td>\n",
       "      <td>0.0</td>\n",
       "      <td>0.0</td>\n",
       "      <td>0.0</td>\n",
       "      <td>0.0</td>\n",
       "      <td>0.0</td>\n",
       "      <td>0.0</td>\n",
       "      <td>0.0</td>\n",
       "      <td>0.0</td>\n",
       "      <td>0.0</td>\n",
       "      <td>0.0</td>\n",
       "    </tr>\n",
       "    <tr>\n",
       "      <th>10999</th>\n",
       "      <td>0.0</td>\n",
       "      <td>57.0</td>\n",
       "      <td>0.0</td>\n",
       "      <td>0.0</td>\n",
       "      <td>0.0</td>\n",
       "      <td>0.0</td>\n",
       "      <td>0.0</td>\n",
       "      <td>0.0</td>\n",
       "      <td>1.0</td>\n",
       "      <td>0.0</td>\n",
       "      <td>...</td>\n",
       "      <td>0.0</td>\n",
       "      <td>0.0</td>\n",
       "      <td>0.0</td>\n",
       "      <td>0.0</td>\n",
       "      <td>0.0</td>\n",
       "      <td>0.0</td>\n",
       "      <td>0.0</td>\n",
       "      <td>0.0</td>\n",
       "      <td>0.0</td>\n",
       "      <td>0.0</td>\n",
       "    </tr>\n",
       "    <tr>\n",
       "      <th>11000</th>\n",
       "      <td>1.0</td>\n",
       "      <td>33.0</td>\n",
       "      <td>0.0</td>\n",
       "      <td>0.0</td>\n",
       "      <td>0.0</td>\n",
       "      <td>0.0</td>\n",
       "      <td>3.0</td>\n",
       "      <td>1.0</td>\n",
       "      <td>0.0</td>\n",
       "      <td>0.0</td>\n",
       "      <td>...</td>\n",
       "      <td>0.0</td>\n",
       "      <td>0.0</td>\n",
       "      <td>0.0</td>\n",
       "      <td>0.0</td>\n",
       "      <td>0.0</td>\n",
       "      <td>0.0</td>\n",
       "      <td>0.0</td>\n",
       "      <td>0.0</td>\n",
       "      <td>0.0</td>\n",
       "      <td>0.0</td>\n",
       "    </tr>\n",
       "    <tr>\n",
       "      <th>11001</th>\n",
       "      <td>1.0</td>\n",
       "      <td>23.0</td>\n",
       "      <td>0.0</td>\n",
       "      <td>0.0</td>\n",
       "      <td>0.0</td>\n",
       "      <td>0.0</td>\n",
       "      <td>2.0</td>\n",
       "      <td>0.0</td>\n",
       "      <td>0.0</td>\n",
       "      <td>1.0</td>\n",
       "      <td>...</td>\n",
       "      <td>0.0</td>\n",
       "      <td>0.0</td>\n",
       "      <td>0.0</td>\n",
       "      <td>0.0</td>\n",
       "      <td>0.0</td>\n",
       "      <td>0.0</td>\n",
       "      <td>0.0</td>\n",
       "      <td>0.0</td>\n",
       "      <td>0.0</td>\n",
       "      <td>1.0</td>\n",
       "    </tr>\n",
       "  </tbody>\n",
       "</table>\n",
       "<p>6167 rows × 402 columns</p>\n",
       "</div>"
      ],
      "text/plain": [
       "       sex   age  race  juv_fel_count  juv_misd_count  juv_other_count  \\\n",
       "1      0.0  69.0   0.0            0.0             0.0              0.0   \n",
       "3      0.0  34.0   0.0            0.0             0.0              0.0   \n",
       "4      0.0  24.0   0.0            0.0             0.0              1.0   \n",
       "7      0.0  44.0   0.0            0.0             0.0              0.0   \n",
       "8      0.0  41.0   1.0            0.0             0.0              0.0   \n",
       "...    ...   ...   ...            ...             ...              ...   \n",
       "10996  0.0  23.0   0.0            0.0             0.0              0.0   \n",
       "10997  0.0  23.0   0.0            0.0             0.0              0.0   \n",
       "10999  0.0  57.0   0.0            0.0             0.0              0.0   \n",
       "11000  1.0  33.0   0.0            0.0             0.0              0.0   \n",
       "11001  1.0  23.0   0.0            0.0             0.0              0.0   \n",
       "\n",
       "       priors_count  age_cat=25 - 45  age_cat=Greater than 45  \\\n",
       "1               0.0              0.0                      1.0   \n",
       "3               0.0              1.0                      0.0   \n",
       "4               4.0              0.0                      0.0   \n",
       "7               0.0              1.0                      0.0   \n",
       "8              14.0              1.0                      0.0   \n",
       "...             ...              ...                      ...   \n",
       "10996           0.0              0.0                      0.0   \n",
       "10997           0.0              0.0                      0.0   \n",
       "10999           0.0              0.0                      1.0   \n",
       "11000           3.0              1.0                      0.0   \n",
       "11001           2.0              0.0                      0.0   \n",
       "\n",
       "       age_cat=Less than 25  ...  \\\n",
       "1                       0.0  ...   \n",
       "3                       0.0  ...   \n",
       "4                       1.0  ...   \n",
       "7                       0.0  ...   \n",
       "8                       0.0  ...   \n",
       "...                     ...  ...   \n",
       "10996                   1.0  ...   \n",
       "10997                   1.0  ...   \n",
       "10999                   0.0  ...   \n",
       "11000                   0.0  ...   \n",
       "11001                   1.0  ...   \n",
       "\n",
       "       c_charge_desc=Viol Injunct Domestic Violence  \\\n",
       "1                                               0.0   \n",
       "3                                               0.0   \n",
       "4                                               0.0   \n",
       "7                                               0.0   \n",
       "8                                               0.0   \n",
       "...                                             ...   \n",
       "10996                                           0.0   \n",
       "10997                                           0.0   \n",
       "10999                                           0.0   \n",
       "11000                                           0.0   \n",
       "11001                                           0.0   \n",
       "\n",
       "       c_charge_desc=Viol Injunction Protect Dom Vi  \\\n",
       "1                                               0.0   \n",
       "3                                               0.0   \n",
       "4                                               0.0   \n",
       "7                                               0.0   \n",
       "8                                               0.0   \n",
       "...                                             ...   \n",
       "10996                                           0.0   \n",
       "10997                                           0.0   \n",
       "10999                                           0.0   \n",
       "11000                                           0.0   \n",
       "11001                                           0.0   \n",
       "\n",
       "       c_charge_desc=Viol Pretrial Release Dom Viol  \\\n",
       "1                                               0.0   \n",
       "3                                               0.0   \n",
       "4                                               0.0   \n",
       "7                                               0.0   \n",
       "8                                               0.0   \n",
       "...                                             ...   \n",
       "10996                                           0.0   \n",
       "10997                                           0.0   \n",
       "10999                                           0.0   \n",
       "11000                                           0.0   \n",
       "11001                                           0.0   \n",
       "\n",
       "       c_charge_desc=Viol Prot Injunc Repeat Viol  \\\n",
       "1                                             0.0   \n",
       "3                                             0.0   \n",
       "4                                             0.0   \n",
       "7                                             0.0   \n",
       "8                                             0.0   \n",
       "...                                           ...   \n",
       "10996                                         0.0   \n",
       "10997                                         0.0   \n",
       "10999                                         0.0   \n",
       "11000                                         0.0   \n",
       "11001                                         0.0   \n",
       "\n",
       "       c_charge_desc=Violation License Restrictions  \\\n",
       "1                                               0.0   \n",
       "3                                               0.0   \n",
       "4                                               0.0   \n",
       "7                                               0.0   \n",
       "8                                               0.0   \n",
       "...                                             ...   \n",
       "10996                                           0.0   \n",
       "10997                                           0.0   \n",
       "10999                                           0.0   \n",
       "11000                                           0.0   \n",
       "11001                                           0.0   \n",
       "\n",
       "       c_charge_desc=Violation Of Boater Safety Id  \\\n",
       "1                                              0.0   \n",
       "3                                              0.0   \n",
       "4                                              0.0   \n",
       "7                                              0.0   \n",
       "8                                              0.0   \n",
       "...                                            ...   \n",
       "10996                                          0.0   \n",
       "10997                                          0.0   \n",
       "10999                                          0.0   \n",
       "11000                                          0.0   \n",
       "11001                                          0.0   \n",
       "\n",
       "       c_charge_desc=Violation of Injunction Order/Stalking/Cyberstalking  \\\n",
       "1                                                    0.0                    \n",
       "3                                                    0.0                    \n",
       "4                                                    0.0                    \n",
       "7                                                    0.0                    \n",
       "8                                                    0.0                    \n",
       "...                                                  ...                    \n",
       "10996                                                0.0                    \n",
       "10997                                                0.0                    \n",
       "10999                                                0.0                    \n",
       "11000                                                0.0                    \n",
       "11001                                                0.0                    \n",
       "\n",
       "       c_charge_desc=Voyeurism  c_charge_desc=arrest case no charge  \\\n",
       "1                          0.0                                  0.0   \n",
       "3                          0.0                                  0.0   \n",
       "4                          0.0                                  0.0   \n",
       "7                          0.0                                  0.0   \n",
       "8                          0.0                                  0.0   \n",
       "...                        ...                                  ...   \n",
       "10996                      0.0                                  0.0   \n",
       "10997                      0.0                                  0.0   \n",
       "10999                      0.0                                  0.0   \n",
       "11000                      0.0                                  0.0   \n",
       "11001                      0.0                                  0.0   \n",
       "\n",
       "       two_year_recid  \n",
       "1                 0.0  \n",
       "3                 1.0  \n",
       "4                 1.0  \n",
       "7                 0.0  \n",
       "8                 1.0  \n",
       "...               ...  \n",
       "10996             0.0  \n",
       "10997             0.0  \n",
       "10999             0.0  \n",
       "11000             0.0  \n",
       "11001             1.0  \n",
       "\n",
       "[6167 rows x 402 columns]"
      ]
     },
     "execution_count": 4,
     "metadata": {},
     "output_type": "execute_result"
    }
   ],
   "source": [
    "# View data as a pandas DataFrame \n",
    "dataset.convert_to_dataframe()[0]"
   ]
  },
  {
   "cell_type": "markdown",
   "id": "9088b462",
   "metadata": {},
   "source": [
    "Instead of using the AIF 360 dataset directly, we will work with the wrapper class `TabularData`:"
   ]
  },
  {
   "cell_type": "code",
   "execution_count": 5,
   "id": "bd941cd2",
   "metadata": {},
   "outputs": [
    {
     "name": "stderr",
     "output_type": "stream",
     "text": [
      "WARNING:root:Missing Data: 5 rows removed from CompasDataset.\n"
     ]
    }
   ],
   "source": [
    "from utils.data_utils import TabularData\n",
    "\n",
    "# Device used to store tensors -- we will use CPU this time\n",
    "device = torch.device('cpu')\n",
    "\n",
    "# Arguments for the TabularData wrapper: which dataset to load and which attribute is protected\n",
    "args = {'dataset': 'compas', 'protected': 'race'}\n",
    "# Create a wrapper object\n",
    "dataset = TabularData(config=args, seed=seed, device=device)"
   ]
  },
  {
   "cell_type": "markdown",
   "id": "d5eaa638",
   "metadata": {},
   "source": [
    "All the attribute names of the wrapper:"
   ]
  },
  {
   "cell_type": "code",
   "execution_count": 6,
   "id": "e8172509",
   "metadata": {},
   "outputs": [
    {
     "data": {
      "text/plain": [
       "dict_keys(['train', 'valid', 'test', 'priv', 'unpriv', 'X_train', 'y_train', 'p_train', 'X_valid', 'X_valid_gpu', 'y_valid', 'y_valid_gpu', 'p_valid', 'p_valid_gpu', 'X_valid_train', 'X_valid_valid', 'y_valid_train', 'y_valid_valid', 'p_valid_train', 'p_valid_valid', 'X_test', 'X_test_gpu', 'y_test', 'y_test_gpu', 'p_test', 'p_test_gpu', 'num_features'])"
      ]
     },
     "execution_count": 6,
     "metadata": {},
     "output_type": "execute_result"
    }
   ],
   "source": [
    "dataset.__dict__.keys()"
   ]
  },
  {
   "cell_type": "markdown",
   "id": "0d1a9cd0",
   "metadata": {},
   "source": [
    "#### Standard Model\n",
    "\n",
    "Let's build a simple fully connected neural network for binary classification! Below is a PyTorch implementation  of a three-layer perceptron with 401 inputs, 500 hidden units in each intermediate layer, and a single output:"
   ]
  },
  {
   "cell_type": "code",
   "execution_count": 7,
   "id": "74757156",
   "metadata": {},
   "outputs": [],
   "source": [
    "# A simple FCNN\n",
    "# NOTE: this architecture differs from the one studied in the original paper\n",
    "class Model(nn.Module):\n",
    "    def __init__(self):\n",
    "        super().__init__()\n",
    "        self.fc0 = nn.Linear(401, 500)\n",
    "        self.fcs = nn.ModuleList([nn.Linear(500, 500)])\n",
    "        self.out = nn.Linear(500, 1)\n",
    "\n",
    "    def forward(self, t):\n",
    "        t = F.relu(self.fc0(t))\n",
    "        for fc in self.fcs:\n",
    "            t = F.relu(fc(t))\n",
    "        return torch.sigmoid(self.out(t))"
   ]
  },
  {
   "cell_type": "markdown",
   "id": "f250d12e",
   "metadata": {},
   "source": [
    "Let's train our model on the COMPAS data! Below, we use the function `train_model` with the routine described in the original paper; however, you can easily implement your preferred procedure:"
   ]
  },
  {
   "cell_type": "code",
   "execution_count": 8,
   "id": "4ed92261",
   "metadata": {},
   "outputs": [],
   "source": [
    "from models.networks_tabular import train_model\n",
    "\n",
    "# Initialise an FCNN and train it for a maximum of 300 epochs\n",
    "model = Model()\n",
    "train_model(model=model, data=dataset, epochs=300)"
   ]
  },
  {
   "cell_type": "markdown",
   "id": "1f852324",
   "metadata": {},
   "source": [
    "#### Model Evaluation\n",
    "\n",
    "Let's now evaluate our classifier w.r.t. predictive performance and classification parity:"
   ]
  },
  {
   "cell_type": "code",
   "execution_count": 9,
   "id": "a7d63a3c",
   "metadata": {},
   "outputs": [],
   "source": [
    "model.eval()\n",
    "\n",
    "# Predict on the validation and test sets\n",
    "with torch.no_grad():\n",
    "    valid_pred = dataset.valid.copy(deepcopy=True)\n",
    "    valid_pred.scores = model(dataset.X_valid)[:, 0].reshape(-1, 1).numpy()\n",
    "    valid_pred.labels = np.array(valid_pred.scores > 0.5)\n",
    "\n",
    "    test_pred = dataset.test.copy(deepcopy=True)\n",
    "    test_pred.scores = model(dataset.X_test)[:, 0].reshape(-1, 1).numpy()\n",
    "    test_pred.labels = np.array(test_pred.scores > 0.5)"
   ]
  },
  {
   "cell_type": "code",
   "execution_count": 10,
   "id": "505bfe57",
   "metadata": {},
   "outputs": [],
   "source": [
    "from sklearn.metrics import balanced_accuracy_score\n",
    "\n",
    "# Choose a classification threshold maximising balanced accuracy on the validation data\n",
    "threshs = np.linspace(0, 1, 101)\n",
    "performances = []\n",
    "for thresh in threshs:\n",
    "    perf = balanced_accuracy_score(dataset.y_valid, valid_pred.scores > thresh)\n",
    "    performances.append(perf)\n",
    "best_thresh = threshs[np.argmax(performances)]"
   ]
  },
  {
   "cell_type": "code",
   "execution_count": 11,
   "id": "fb371a94",
   "metadata": {},
   "outputs": [
    {
     "name": "stdout",
     "output_type": "stream",
     "text": [
      "Balanced accuracy: 0.651\n",
      "SPD: 0.113\n"
     ]
    }
   ],
   "source": [
    "from utils.evaluation import compute_empirical_bias\n",
    "\n",
    "# Evaluate test-set balanced accuracy and statistical parity difference\n",
    "print('Balanced accuracy: %.3f' % balanced_accuracy_score(dataset.y_test, test_pred.scores > best_thresh))\n",
    "print('SPD: %.3f' % compute_empirical_bias((test_pred.scores > best_thresh) * 1., dataset.y_test.numpy(), \n",
    "                                           dataset.p_test, metric='spd'))"
   ]
  },
  {
   "cell_type": "markdown",
   "id": "a12ecbc2",
   "metadata": {},
   "source": [
    "As we can see, the statistical parity difference is considerably $> 0$. If the SPD is an appropriate criterion, we can try reducing it using a debiasing algorithm!"
   ]
  },
  {
   "cell_type": "markdown",
   "id": "58c1dd46",
   "metadata": {},
   "source": [
    "#### Bias Gradient Descent/Ascent (GD/A)\n",
    "\n",
    "Bias gradient descent/ascent fine-tunes the network by minimising/maximising a differentiable proxy of the bias measure:"
   ]
  },
  {
   "cell_type": "code",
   "execution_count": 12,
   "id": "45740b43",
   "metadata": {},
   "outputs": [
    {
     "name": "stderr",
     "output_type": "stream",
     "text": [
      "  0% |                                                                                                                                                                                                      |\r"
     ]
    },
    {
     "name": "stdout",
     "output_type": "stream",
     "text": [
      "Performing bias gradient ascent/descent...\n",
      "\n"
     ]
    },
    {
     "name": "stderr",
     "output_type": "stream",
     "text": [
      " 98% |##################################################################################################################################################################################################    |\r"
     ]
    },
    {
     "name": "stdout",
     "output_type": "stream",
     "text": [
      "\n",
      "\n",
      "\n",
      "WARNING: log directory is missing!\n"
     ]
    }
   ],
   "source": [
    "from algorithms.biasGrad import bias_gradient_decent\n",
    "\n",
    "# Additional arguments for the bias GD/A\n",
    "args['experiment_name'] = 'demo_experiment'\n",
    "args['metric'] = 'spd'\n",
    "args['acc_metric'] = 'balanced_accuracy'\n",
    "args['objective'] = {}\n",
    "args['objective']['sharpness'] = 500\n",
    "args['objective']['epsilon'] = 0.05\n",
    "args['biasGrad'] = {}\n",
    "# Learning rate: reasonably small rates work well\n",
    "args['biasGrad']['lr'] = 1e-5\n",
    "# The maximum number of fine-tuning epochs\n",
    "args['biasGrad']['n_epochs'] = 50\n",
    "# Mini-batch size\n",
    "args['biasGrad']['batch_size'] = 256\n",
    "# Use only the validation set for debiasing? \n",
    "args['biasGrad']['val_only'] = True\n",
    "# Lower bound on balanced accuracy: parameter ϱ from the original paper\n",
    "args['biasGrad']['obj_lb'] = 0.61\n",
    "# Number of evaluations per epoch (used for early stopping)\n",
    "args['biasGrad']['n_evals'] = 1\n",
    "\n",
    "# Fine-tune the network using bias GD/A\n",
    "# NOTE: since the standard model's SPD > 0, we are performing gradient descent\n",
    "model_GDA = bias_gradient_decent(model=model, data=dataset, config=args, seed=seed, plot=False, display=False, \n",
    "                              asc=False)"
   ]
  },
  {
   "cell_type": "markdown",
   "id": "6ad407ff",
   "metadata": {},
   "source": [
    "Let's now evaluate the fine-tuned model:"
   ]
  },
  {
   "cell_type": "code",
   "execution_count": 13,
   "id": "3fd97ea8",
   "metadata": {},
   "outputs": [
    {
     "name": "stdout",
     "output_type": "stream",
     "text": [
      "Balanced accuracy: 0.635\n",
      "SPD: -0.019\n"
     ]
    }
   ],
   "source": [
    "model_GDA.eval()\n",
    "with torch.no_grad():\n",
    "    valid_pred_GDA = dataset.valid.copy(deepcopy=True)\n",
    "    valid_pred_GDA.scores = model_GDA(dataset.X_valid)[:, 0].reshape(-1, 1).numpy()\n",
    "    valid_pred_GDA.labels = np.array(valid_pred_GDA.scores > 0.5)\n",
    "\n",
    "    test_pred_GDA = dataset.test.copy(deepcopy=True)\n",
    "    test_pred_GDA.scores = model_GDA(dataset.X_test)[:, 0].reshape(-1, 1).numpy()\n",
    "    test_pred_GDA.labels = np.array(test_pred_GDA.scores > 0.5)\n",
    "\n",
    "threshs = np.linspace(0, 1, 101)\n",
    "performances = []\n",
    "for thresh in threshs:\n",
    "    perf = balanced_accuracy_score(dataset.y_valid, valid_pred_GDA.scores > thresh)\n",
    "    performances.append(perf)\n",
    "best_thresh_GDA = threshs[np.argmax(performances)]\n",
    "\n",
    "print('Balanced accuracy: %.3f' % balanced_accuracy_score(dataset.y_test, test_pred_GDA.scores > best_thresh_GDA))\n",
    "print('SPD: %.3f' % compute_empirical_bias((test_pred_GDA.scores > best_thresh_GDA) * 1., dataset.y_test.numpy(), \n",
    "                                           dataset.p_test, metric='spd'))"
   ]
  },
  {
   "cell_type": "markdown",
   "id": "d22fbc13",
   "metadata": {},
   "source": [
    "We have sacrificed some balanced accuracy, but the SPD is much lower now!"
   ]
  },
  {
   "cell_type": "markdown",
   "id": "5b3465bc",
   "metadata": {},
   "source": [
    "#### Pruning for Debiasing\n",
    "\n",
    "Another algorithm proposed by us is pruning, a dropout-like removal of individual units from the network based on their contribution to the differentiable bias proxy. Let's try it out:"
   ]
  },
  {
   "cell_type": "code",
   "execution_count": 14,
   "id": "dcca6014",
   "metadata": {},
   "outputs": [
    {
     "name": "stdout",
     "output_type": "stream",
     "text": [
      "Pruning the network...\n",
      "\n"
     ]
    },
    {
     "name": "stderr",
     "output_type": "stream",
     "text": [
      " 99% |##################################################################################################################################################################################################### |\r"
     ]
    },
    {
     "name": "stdout",
     "output_type": "stream",
     "text": [
      "WARNING: log directory is missing!\n"
     ]
    }
   ],
   "source": [
    "from algorithms.pruning import prune_fc\n",
    "\n",
    "# Additional arguments for pruning\n",
    "args['pruning'] = {}\n",
    "# Re-evaluate unit influence after every pruning step?\n",
    "args['pruning']['dynamic'] = True\n",
    "# How many units are pruned per step?\n",
    "args['pruning']['step_size'] = 1\n",
    "# Stop pruning early if the balanced accuracy drops close to random?\n",
    "args['pruning']['stop_early'] = True\n",
    "# Use only the validation set for debiasing? \n",
    "args['pruning']['val_only'] = True\n",
    "# Lower bound on balanced accuracy: parameter ϱ from the original paper\n",
    "args['pruning']['obj_lb'] = 0.55\n",
    "\n",
    "# Prune the network\n",
    "# NOTE: this might take a while. To speed up, increase the step size parameter\n",
    "model_pruned = prune_fc(model=model, data=dataset, config=args, seed=seed, plot=False, display=False)"
   ]
  },
  {
   "cell_type": "markdown",
   "id": "8b867299",
   "metadata": {},
   "source": [
    "Evaluate the pruned model:"
   ]
  },
  {
   "cell_type": "code",
   "execution_count": 15,
   "id": "d0826e89",
   "metadata": {},
   "outputs": [
    {
     "name": "stdout",
     "output_type": "stream",
     "text": [
      "Balanced accuracy: 0.629\n",
      "SPD: -0.035\n"
     ]
    }
   ],
   "source": [
    "model_pruned.eval()\n",
    "with torch.no_grad():\n",
    "    valid_pred_pruned = dataset.valid.copy(deepcopy=True)\n",
    "    valid_pred_pruned.scores = model_pruned(dataset.X_valid)[:, 0].reshape(-1, 1).numpy()\n",
    "    valid_pred_pruned.labels = np.array(valid_pred_pruned.scores > 0.5)\n",
    "\n",
    "    test_pred_pruned = dataset.test.copy(deepcopy=True)\n",
    "    test_pred_pruned.scores = model_pruned(dataset.X_test)[:, 0].reshape(-1, 1).numpy()\n",
    "    test_pred_pruned.labels = np.array(test_pred_pruned.scores > 0.5)\n",
    "\n",
    "threshs = np.linspace(0, 1, 101)\n",
    "performances = []\n",
    "for thresh in threshs:\n",
    "    perf = balanced_accuracy_score(dataset.y_valid, valid_pred_pruned.scores > thresh)\n",
    "    performances.append(perf)\n",
    "best_thresh_pruned = threshs[np.argmax(performances)]\n",
    "\n",
    "print('Balanced accuracy: %.3f' % balanced_accuracy_score(dataset.y_test, \n",
    "                                                          test_pred_pruned.scores > best_thresh_pruned))\n",
    "print('SPD: %.3f' % compute_empirical_bias((test_pred_pruned.scores > best_thresh_pruned) * 1., \n",
    "                                           dataset.y_test.numpy(), dataset.p_test, metric='spd'))"
   ]
  },
  {
   "cell_type": "markdown",
   "id": "bf9c365e",
   "metadata": {},
   "source": [
    "Like the bias GD/A, pruning reduces the SPD, having a negligible effect on the BA."
   ]
  }
 ],
 "metadata": {
  "kernelspec": {
   "display_name": "Python 3 (ipykernel)",
   "language": "python",
   "name": "python3"
  },
  "language_info": {
   "codemirror_mode": {
    "name": "ipython",
    "version": 3
   },
   "file_extension": ".py",
   "mimetype": "text/x-python",
   "name": "python",
   "nbconvert_exporter": "python",
   "pygments_lexer": "ipython3",
   "version": "3.8.11"
  }
 },
 "nbformat": 4,
 "nbformat_minor": 5
}
